{
 "cells": [
  {
   "cell_type": "code",
   "execution_count": 1,
   "metadata": {},
   "outputs": [
    {
     "data": {
      "text/plain": [
       "{'</s>': 0, 'in': 1, 'for': 2, 'that': 3, 'is': 4}"
      ]
     },
     "execution_count": 1,
     "metadata": {},
     "output_type": "execute_result"
    }
   ],
   "source": [
    "from gensim.models import KeyedVectors\n",
    "\n",
    "model: KeyedVectors = KeyedVectors.load_word2vec_format(\n",
    "    \"../data/GoogleNews-vectors-negative300.bin.gz\", binary=True, limit=10_0000\n",
    ")\n",
    "dict(list(model.key_to_index.items())[:5])"
   ]
  },
  {
   "cell_type": "code",
   "execution_count": 3,
   "metadata": {},
   "outputs": [],
   "source": [
    "import json\n",
    "\n",
    "\n",
    "used_words = []\n",
    "used_indices = []\n",
    "\n",
    "for word, index in model.key_to_index.items():\n",
    "    # ノイズ，2 単語からなるトークンを削除\n",
    "    if len(word) > 1 and (\"_\" in word or \"#\" in word):\n",
    "        continue\n",
    "\n",
    "    used_words.append(word)\n",
    "    used_indices.append(index)\n",
    "\n",
    "unk_token = \"[UNK]\"\n",
    "used_words.append(unk_token)\n",
    "used_indices.append(len(used_indices))\n",
    "\n",
    "\n",
    "with open(\"google-news/vocab.json\", \"w\") as f:\n",
    "    json.dump({k: i for i, k in enumerate(used_words)}, f, indent=2)"
   ]
  },
  {
   "cell_type": "code",
   "execution_count": 4,
   "metadata": {},
   "outputs": [],
   "source": [
    "from tokenizers import Tokenizer\n",
    "from tokenizers.models import WordLevel\n",
    "from tokenizers.pre_tokenizers import Whitespace\n",
    "\n",
    "\n",
    "tokenizer = Tokenizer(WordLevel.from_file(\"google-news/vocab.json\", unk_token=unk_token))\n",
    "tokenizer.pre_tokenizer = Whitespace()\n",
    "tokenizer.add_special_tokens([unk_token])\n",
    "tokenizer.save(\"google-news/tokenizer.json\")"
   ]
  },
  {
   "cell_type": "code",
   "execution_count": 5,
   "metadata": {},
   "outputs": [],
   "source": [
    "from transformers import PreTrainedTokenizerFast\n",
    "\n",
    "tokenizer = PreTrainedTokenizerFast(tokenizer_file=\"google-news/tokenizer.json\")"
   ]
  },
  {
   "cell_type": "code",
   "execution_count": 6,
   "metadata": {},
   "outputs": [
    {
     "data": {
      "text/plain": [
       "{'input_ids': [15494, 75697, 150, 75697], 'token_type_ids': [0, 0, 0, 0], 'attention_mask': [1, 1, 1, 1]}"
      ]
     },
     "execution_count": 6,
     "metadata": {},
     "output_type": "execute_result"
    }
   ],
   "source": [
    "tokens = tokenizer(\"Hello, world!\")\n",
    "tokens"
   ]
  },
  {
   "cell_type": "code",
   "execution_count": 7,
   "metadata": {},
   "outputs": [
    {
     "data": {
      "text/plain": [
       "'Hello [UNK] world [UNK]'"
      ]
     },
     "execution_count": 7,
     "metadata": {},
     "output_type": "execute_result"
    }
   ],
   "source": [
    "tokenizer.decode(tokens[\"input_ids\"])"
   ]
  },
  {
   "cell_type": "markdown",
   "metadata": {},
   "source": [
    "`GoogleNews-vectors-negative300.bin.gz` は \"単語\" 埋め込みなので記号とか冠詞の a とかが無い．\n",
    "\n",
    "語彙集合は単語埋め込みのキーではなく訓練データから作ったほうが良さそう．"
   ]
  }
 ],
 "metadata": {
  "kernelspec": {
   "display_name": "Python 3",
   "language": "python",
   "name": "python3"
  },
  "language_info": {
   "codemirror_mode": {
    "name": "ipython",
    "version": 3
   },
   "file_extension": ".py",
   "mimetype": "text/x-python",
   "name": "python",
   "nbconvert_exporter": "python",
   "pygments_lexer": "ipython3",
   "version": "3.9.13"
  },
  "orig_nbformat": 4
 },
 "nbformat": 4,
 "nbformat_minor": 2
}
