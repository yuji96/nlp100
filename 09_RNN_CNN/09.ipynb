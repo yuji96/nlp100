{
 "cells": [
  {
   "cell_type": "code",
   "execution_count": 1,
   "metadata": {},
   "outputs": [],
   "source": [
    "import os\n",
    "\n",
    "\n",
    "# os.environ[\"CUDA_VISIBLE_DEVICES\"] = \"\"\n",
    "device = \"cuda\"\n"
   ]
  },
  {
   "cell_type": "code",
   "execution_count": 2,
   "metadata": {},
   "outputs": [],
   "source": [
    "# 80\n",
    "import pandas as pd\n",
    "\n",
    "\n",
    "train = pd.read_table(\"train.tsv\")\n",
    "valid = pd.read_table(\"valid.tsv\")\n",
    "test = pd.read_table(\"test.tsv\")"
   ]
  },
  {
   "cell_type": "code",
   "execution_count": 3,
   "metadata": {},
   "outputs": [
    {
     "data": {
      "text/plain": [
       "10347"
      ]
     },
     "execution_count": 3,
     "metadata": {},
     "output_type": "execute_result"
    }
   ],
   "source": [
    "from itertools import chain\n",
    "\n",
    "vocab = chain.from_iterable(train[\"title\"].str.split())\n",
    "vocab = pd.Series(vocab, name=\"word\")\n",
    "vocab = vocab.value_counts().reset_index(name=\"count\")\n",
    "vocab = vocab.loc[vocab[\"count\"] >= 2, \"word\"]\n",
    "vocab = {w: i for i, w in enumerate(vocab.tolist(), start=1)}\n",
    "assert \"<unk>\" not in vocab\n",
    "vocab[\"<unk>\"] = 0\n",
    "len(vocab)"
   ]
  },
  {
   "cell_type": "code",
   "execution_count": 4,
   "metadata": {},
   "outputs": [
    {
     "data": {
      "text/plain": [
       "[0, 1367, 104, 32, 18, 0, 498, 78, 0]"
      ]
     },
     "execution_count": 4,
     "metadata": {},
     "output_type": "execute_result"
    }
   ],
   "source": [
    "from dataset import Tokenier\n",
    "\n",
    "tokenizer = Tokenier(vocab)\n",
    "tokenizer(\"hello world This is a pen you are kind\")\n"
   ]
  },
  {
   "cell_type": "code",
   "execution_count": 5,
   "metadata": {},
   "outputs": [],
   "source": [
    "%load_ext autoreload\n",
    "%autoreload 2"
   ]
  },
  {
   "cell_type": "code",
   "execution_count": 6,
   "metadata": {},
   "outputs": [
    {
     "data": {
      "text/plain": [
       "10347"
      ]
     },
     "execution_count": 6,
     "metadata": {},
     "output_type": "execute_result"
    }
   ],
   "source": [
    "len(vocab)"
   ]
  },
  {
   "cell_type": "code",
   "execution_count": 7,
   "metadata": {},
   "outputs": [
    {
     "data": {
      "text/plain": [
       "10346"
      ]
     },
     "execution_count": 7,
     "metadata": {},
     "output_type": "execute_result"
    }
   ],
   "source": [
    "max(vocab.values())"
   ]
  },
  {
   "cell_type": "code",
   "execution_count": 8,
   "metadata": {},
   "outputs": [
    {
     "data": {
      "text/plain": [
       "ModelOutput([('loss', tensor(1.5940, grad_fn=<NllLossBackward0>)),\n",
       "             ('logits',\n",
       "              tensor([[0.1585, 0.2596, 0.1782, 0.2160, 0.1877]], grad_fn=<SoftmaxBackward0>))])"
      ]
     },
     "execution_count": 8,
     "metadata": {},
     "output_type": "execute_result"
    }
   ],
   "source": [
    "# 81\n",
    "import torch\n",
    "from models import RNN\n",
    "\n",
    "model = RNN(vocab_size=len(vocab), hidden_size=300, output_size=5)\n",
    "model(torch.tensor([[1, 2, 3]]),labels=torch.tensor([3]))\n"
   ]
  },
  {
   "cell_type": "code",
   "execution_count": 23,
   "metadata": {},
   "outputs": [],
   "source": [
    "# 82\n",
    "# TODO: trainer に移動\n",
    "from sklearn.metrics import accuracy_score, f1_score\n",
    "from transformers import EvalPrediction\n",
    "\n",
    "\n",
    "def custom_compute_metrics(res: EvalPrediction) -> dict:\n",
    "    pred = res.predictions.argmax(axis=1)\n",
    "    acc = accuracy_score(res.label_ids, pred)\n",
    "    f1 = f1_score(res.label_ids, pred, average=\"macro\")\n",
    "    return {\"accuracy\": acc, \"f1\": f1}\n"
   ]
  },
  {
   "cell_type": "code",
   "execution_count": 16,
   "metadata": {},
   "outputs": [
    {
     "name": "stderr",
     "output_type": "stream",
     "text": [
      "PyTorch: setting up devices\n"
     ]
    }
   ],
   "source": [
    "from transformers import TrainingArguments\n",
    "from dataset import NewsAggCollator, NewsAggDataset\n",
    "from transformers.trainer import Trainer\n",
    "\n",
    "\n",
    "training_args = TrainingArguments(\n",
    "    output_dir=\"/data/yuji96/nlp100/82_rnn_sgd\",\n",
    "    evaluation_strategy=\"epoch\",\n",
    "    logging_strategy=\"epoch\",\n",
    "    save_strategy=\"epoch\",\n",
    "    metric_for_best_model=\"f1\",\n",
    "    load_best_model_at_end=True,\n",
    "    per_device_train_batch_size=64,\n",
    "    per_device_eval_batch_size=64,\n",
    "    num_train_epochs=15,\n",
    "    remove_unused_columns=False,\n",
    "    report_to=\"wandb\",\n",
    ")\n"
   ]
  },
  {
   "cell_type": "code",
   "execution_count": 24,
   "metadata": {},
   "outputs": [
    {
     "name": "stderr",
     "output_type": "stream",
     "text": [
      "***** Running training *****\n",
      "  Num examples = 10672\n",
      "  Num Epochs = 10\n",
      "  Instantaneous batch size per device = 32\n",
      "  Total train batch size (w. parallel, distributed & accumulation) = 96\n",
      "  Gradient Accumulation steps = 1\n",
      "  Total optimization steps = 1120\n",
      "Automatic Weights & Biases logging enabled, to disable set os.environ[\"WANDB_DISABLED\"] = \"true\"\n",
      "/home/yuji96/.conda/envs/yuji/lib/python3.8/site-packages/torch/nn/parallel/_functions.py:68: UserWarning: Was asked to gather along dimension 0, but all input tensors were scalars; will instead unsqueeze and return a vector.\n",
      "  warnings.warn('Was asked to gather along dimension 0, but all '\n"
     ]
    },
    {
     "data": {
      "text/html": [
       "\n",
       "    <div>\n",
       "      \n",
       "      <progress value='46' max='1120' style='width:300px; height:20px; vertical-align: middle;'></progress>\n",
       "      [  46/1120 00:06 < 02:34, 6.97 it/s, Epoch 0.40/10]\n",
       "    </div>\n",
       "    <table border=\"1\" class=\"dataframe\">\n",
       "  <thead>\n",
       " <tr style=\"text-align: left;\">\n",
       "      <th>Epoch</th>\n",
       "      <th>Training Loss</th>\n",
       "      <th>Validation Loss</th>\n",
       "    </tr>\n",
       "  </thead>\n",
       "  <tbody>\n",
       "  </tbody>\n",
       "</table><p>"
      ],
      "text/plain": [
       "<IPython.core.display.HTML object>"
      ]
     },
     "metadata": {},
     "output_type": "display_data"
    },
    {
     "name": "stderr",
     "output_type": "stream",
     "text": [
      "***** Running Evaluation *****\n",
      "  Num examples = 1334\n",
      "  Num examples = 1334\n",
      "Saving model checkpoint to /data/yuji96/nlp100/82_rnn_sgd/checkpoint-112\n",
      "Trainer.model is not a `PreTrainedModel`, only saving its state dict.\n",
      "***** Running Evaluation *****\n",
      "  Num examples = 1334\n",
      "  Batch size = 32\n",
      "Saving model checkpoint to /data/yuji96/nlp100/82_rnn_sgd/checkpoint-224\n",
      "Trainer.model is not a `PreTrainedModel`, only saving its state dict.\n",
      "***** Running Evaluation *****\n",
      "  Num examples = 1334\n",
      "  Batch size = 32\n",
      "Saving model checkpoint to /data/yuji96/nlp100/82_rnn_sgd/checkpoint-336\n",
      "Trainer.model is not a `PreTrainedModel`, only saving its state dict.\n",
      "***** Running Evaluation *****\n",
      "  Num examples = 1334\n",
      "  Batch size = 32\n",
      "Saving model checkpoint to /data/yuji96/nlp100/82_rnn_sgd/checkpoint-448\n",
      "Trainer.model is not a `PreTrainedModel`, only saving its state dict.\n",
      "***** Running Evaluation *****\n",
      "  Num examples = 1334\n",
      "  Batch size = 32\n",
      "***** Running Evaluation *****\n",
      "  Num examples = 1334\n",
      "  Batch size = 32\n",
      "Saving model checkpoint to /data/yuji96/nlp100/82_rnn_sgd/checkpoint-672\n",
      "Trainer.model is not a `PreTrainedModel`, only saving its state dict.\n",
      "***** Running Evaluation *****\n",
      "  Num examples = 1334\n",
      "  Batch size = 32\n",
      "Saving model checkpoint to /data/yuji96/nlp100/82_rnn_sgd/checkpoint-784\n",
      "Trainer.model is not a `PreTrainedModel`, only saving its state dict.\n",
      "***** Running Evaluation *****\n",
      "  Num examples = 1334\n",
      "  Batch size = 32\n",
      "Saving model checkpoint to /data/yuji96/nlp100/82_rnn_sgd/checkpoint-896\n",
      "Trainer.model is not a `PreTrainedModel`, only saving its state dict.\n",
      "***** Running Evaluation *****\n",
      "  Num examples = 1334\n",
      "  Batch size = 32\n",
      "Saving model checkpoint to /data/yuji96/nlp100/82_rnn_sgd/checkpoint-1008\n",
      "Trainer.model is not a `PreTrainedModel`, only saving its state dict.\n",
      "***** Running Evaluation *****\n",
      "  Num examples = 1334\n",
      "  Batch size = 32\n",
      "Saving model checkpoint to /data/yuji96/nlp100/82_rnn_sgd/checkpoint-1120\n",
      "Trainer.model is not a `PreTrainedModel`, only saving its state dict.\n"
     ]
    },
    {
     "data": {
      "text/plain": [
       "TrainOutput(global_step=1120, training_loss=1.6465275355747768, metrics={'train_runtime': 149.7769, 'train_samples_per_second': 712.527, 'train_steps_per_second': 7.478, 'total_flos': 0.0, 'train_loss': 1.6465275355747768, 'epoch': 10.0})"
      ]
     },
     "execution_count": 24,
     "metadata": {},
     "output_type": "execute_result"
    }
   ],
   "source": [
    "from transformers import EarlyStoppingCallback\n",
    "\n",
    "model = model.to(device)\n",
    "collator = NewsAggCollator(tokenizer, device=device)\n",
    "\n",
    "sgd = torch.optim.SGD(model.parameters(), lr=0.001)\n",
    "# scheduler = torch.optim.lr_scheduler.ConstantLR(sgd, factor=1, total_iters=1)\n",
    "scheduler = None\n",
    "trainer = Trainer(\n",
    "    model,\n",
    "    training_args,\n",
    "    train_dataset=NewsAggDataset(train),\n",
    "    eval_dataset=NewsAggDataset(valid),\n",
    "    data_collator=collator,\n",
    "    compute_metrics=custom_compute_metrics,\n",
    "    callbacks=[EarlyStoppingCallback(early_stopping_patience=5)],\n",
    "    optimizers=(sgd, scheduler),\n",
    ")\n",
    "trainer.train()\n"
   ]
  }
 ],
 "metadata": {
  "kernelspec": {
   "display_name": "yuji",
   "language": "python",
   "name": "python3"
  },
  "language_info": {
   "codemirror_mode": {
    "name": "ipython",
    "version": 3
   },
   "file_extension": ".py",
   "mimetype": "text/x-python",
   "name": "python",
   "nbconvert_exporter": "python",
   "pygments_lexer": "ipython3",
   "version": "3.8.13"
  },
  "orig_nbformat": 4
 },
 "nbformat": 4,
 "nbformat_minor": 2
}
